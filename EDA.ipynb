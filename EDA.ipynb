{
 "cells": [
  {
   "cell_type": "markdown",
   "metadata": {},
   "source": [
    "## Passo 1 - Descrição dos dados\n"
   ]
  },
  {
   "cell_type": "code",
   "execution_count": 1,
   "metadata": {},
   "outputs": [],
   "source": [
    "# Imports\n",
    "import pandas as pd\n",
    "from sqlalchemy import create_engine\n",
    "import numpy as np\n",
    "import os"
   ]
  },
  {
   "cell_type": "code",
   "execution_count": 2,
   "metadata": {},
   "outputs": [],
   "source": [
    "if (os.environ.get('DB_TYPE') == None):\n",
    "    from dotenv import load_dotenv\n",
    "    from config.definitions import ROOT_DIR\n",
    "    load_dotenv(os.path.join(ROOT_DIR, 'config', 'conf', '.env'))"
   ]
  },
  {
   "cell_type": "code",
   "execution_count": 3,
   "metadata": {},
   "outputs": [
    {
     "data": {
      "text/plain": [
       "'C:\\\\Users\\\\Bteix\\\\Desktop\\\\ComunidadeDS\\\\DS_ao_DEV\\\\PUBLISHING\\\\dags'"
      ]
     },
     "execution_count": 3,
     "metadata": {},
     "output_type": "execute_result"
    }
   ],
   "source": [
    "ROOT_DIR"
   ]
  },
  {
   "cell_type": "code",
   "execution_count": 4,
   "metadata": {},
   "outputs": [
    {
     "name": "stdout",
     "output_type": "stream",
     "text": [
      "postgresql\n"
     ]
    }
   ],
   "source": [
    "# Database Credentials\n",
    "\n",
    "db_type = os.environ.get(\"DB_TYPE\")\n",
    "user = os.environ.get('DB_USER')\n",
    "pswd = os.environ.get('DB_PASS')\n",
    "host = os.environ.get('DB_HOST')\n",
    "db_name = os.environ.get('DB_NAME')\n",
    "print(db_type)"
   ]
  },
  {
   "cell_type": "code",
   "execution_count": 6,
   "metadata": {},
   "outputs": [],
   "source": [
    "engine = create_engine(f'{db_type}+psycopg2://{user}:{pswd}@{host}/{db_name}', echo=False\n",
    ")"
   ]
  },
  {
   "cell_type": "code",
   "execution_count": 8,
   "metadata": {},
   "outputs": [],
   "source": [
    "conn = engine.connect()"
   ]
  },
  {
   "cell_type": "code",
   "execution_count": 16,
   "metadata": {},
   "outputs": [
    {
     "name": "stdout",
     "output_type": "stream",
     "text": [
      "('vitrine_hm',)\n",
      "('vitrine_marcy',)\n"
     ]
    }
   ],
   "source": [
    "query = \"SELECT table_name FROM information_schema.tables\\\n",
    "        WHERE table_schema = 'public'\"\n",
    "exec = conn.execute(query)\n",
    "\n",
    "for table in exec.fetchall():\n",
    "    print(table)"
   ]
  },
  {
   "cell_type": "code",
   "execution_count": 22,
   "metadata": {},
   "outputs": [],
   "source": [
    "query_h = \"\"\"SELECT * FROM vitrine_hm\"\"\"\n",
    "query_m = \"\"\"SELECT * FROM vitrine_marcy\"\"\""
   ]
  },
  {
   "cell_type": "code",
   "execution_count": 23,
   "metadata": {},
   "outputs": [],
   "source": [
    "df_raw_hm = pd.read_sql(query_h, con=conn)\n",
    "df_raw_macys = pd.read_sql(query_m, con=conn)"
   ]
  },
  {
   "cell_type": "code",
   "execution_count": 26,
   "metadata": {},
   "outputs": [
    {
     "data": {
      "text/html": [
       "<div>\n",
       "<style scoped>\n",
       "    .dataframe tbody tr th:only-of-type {\n",
       "        vertical-align: middle;\n",
       "    }\n",
       "\n",
       "    .dataframe tbody tr th {\n",
       "        vertical-align: top;\n",
       "    }\n",
       "\n",
       "    .dataframe thead th {\n",
       "        text-align: right;\n",
       "    }\n",
       "</style>\n",
       "<table border=\"1\" class=\"dataframe\">\n",
       "  <thead>\n",
       "    <tr style=\"text-align: right;\">\n",
       "      <th></th>\n",
       "      <th>product_id</th>\n",
       "      <th>style_id</th>\n",
       "      <th>color_id</th>\n",
       "      <th>product_type</th>\n",
       "      <th>product_name</th>\n",
       "      <th>color_name</th>\n",
       "      <th>fit</th>\n",
       "      <th>price</th>\n",
       "      <th>model_size</th>\n",
       "      <th>model_height</th>\n",
       "      <th>cotton</th>\n",
       "      <th>rayon</th>\n",
       "      <th>lyocell</th>\n",
       "      <th>polyester</th>\n",
       "      <th>spandex</th>\n",
       "      <th>elastomultiester</th>\n",
       "      <th>scrap_datetime</th>\n",
       "    </tr>\n",
       "  </thead>\n",
       "  <tbody>\n",
       "    <tr>\n",
       "      <th>0</th>\n",
       "      <td>1024256001</td>\n",
       "      <td>1024256</td>\n",
       "      <td>1</td>\n",
       "      <td>men_jeans_slim</td>\n",
       "      <td>slim_jeans</td>\n",
       "      <td>black</td>\n",
       "      <td>slim_fit</td>\n",
       "      <td>24.99</td>\n",
       "      <td>33/32</td>\n",
       "      <td>180.0</td>\n",
       "      <td>0.99</td>\n",
       "      <td>0.0</td>\n",
       "      <td>0.0</td>\n",
       "      <td>0.65</td>\n",
       "      <td>0.01</td>\n",
       "      <td>0.0</td>\n",
       "      <td>2023-01-30 21:06:18</td>\n",
       "    </tr>\n",
       "    <tr>\n",
       "      <th>1</th>\n",
       "      <td>1024256002</td>\n",
       "      <td>1024256</td>\n",
       "      <td>2</td>\n",
       "      <td>men_jeans_slim</td>\n",
       "      <td>slim_jeans</td>\n",
       "      <td>light_denim_blue</td>\n",
       "      <td>slim_fit</td>\n",
       "      <td>24.99</td>\n",
       "      <td>None</td>\n",
       "      <td>NaN</td>\n",
       "      <td>0.99</td>\n",
       "      <td>0.0</td>\n",
       "      <td>0.0</td>\n",
       "      <td>0.65</td>\n",
       "      <td>0.01</td>\n",
       "      <td>0.0</td>\n",
       "      <td>2023-01-30 21:06:18</td>\n",
       "    </tr>\n",
       "    <tr>\n",
       "      <th>2</th>\n",
       "      <td>1024256003</td>\n",
       "      <td>1024256</td>\n",
       "      <td>3</td>\n",
       "      <td>men_jeans_slim</td>\n",
       "      <td>slim_jeans</td>\n",
       "      <td>light_denim_blue</td>\n",
       "      <td>slim_fit</td>\n",
       "      <td>24.99</td>\n",
       "      <td>33/32</td>\n",
       "      <td>180.0</td>\n",
       "      <td>0.99</td>\n",
       "      <td>0.0</td>\n",
       "      <td>0.0</td>\n",
       "      <td>0.65</td>\n",
       "      <td>0.01</td>\n",
       "      <td>0.0</td>\n",
       "      <td>2023-01-30 21:06:18</td>\n",
       "    </tr>\n",
       "    <tr>\n",
       "      <th>3</th>\n",
       "      <td>1024256004</td>\n",
       "      <td>1024256</td>\n",
       "      <td>4</td>\n",
       "      <td>men_jeans_slim</td>\n",
       "      <td>slim_jeans</td>\n",
       "      <td>denim_blue</td>\n",
       "      <td>slim_fit</td>\n",
       "      <td>24.99</td>\n",
       "      <td>None</td>\n",
       "      <td>NaN</td>\n",
       "      <td>0.99</td>\n",
       "      <td>0.0</td>\n",
       "      <td>0.0</td>\n",
       "      <td>0.65</td>\n",
       "      <td>0.01</td>\n",
       "      <td>0.0</td>\n",
       "      <td>2023-01-30 21:06:18</td>\n",
       "    </tr>\n",
       "    <tr>\n",
       "      <th>4</th>\n",
       "      <td>1024256005</td>\n",
       "      <td>1024256</td>\n",
       "      <td>5</td>\n",
       "      <td>men_jeans_slim</td>\n",
       "      <td>slim_jeans</td>\n",
       "      <td>dark_blue</td>\n",
       "      <td>slim_fit</td>\n",
       "      <td>24.99</td>\n",
       "      <td>31/32</td>\n",
       "      <td>183.0</td>\n",
       "      <td>0.99</td>\n",
       "      <td>0.0</td>\n",
       "      <td>0.0</td>\n",
       "      <td>0.65</td>\n",
       "      <td>0.01</td>\n",
       "      <td>0.0</td>\n",
       "      <td>2023-01-30 21:06:18</td>\n",
       "    </tr>\n",
       "  </tbody>\n",
       "</table>\n",
       "</div>"
      ],
      "text/plain": [
       "   product_id  style_id  color_id    product_type product_name  \\\n",
       "0  1024256001   1024256         1  men_jeans_slim   slim_jeans   \n",
       "1  1024256002   1024256         2  men_jeans_slim   slim_jeans   \n",
       "2  1024256003   1024256         3  men_jeans_slim   slim_jeans   \n",
       "3  1024256004   1024256         4  men_jeans_slim   slim_jeans   \n",
       "4  1024256005   1024256         5  men_jeans_slim   slim_jeans   \n",
       "\n",
       "         color_name       fit  price model_size  model_height  cotton  rayon  \\\n",
       "0             black  slim_fit  24.99      33/32         180.0    0.99    0.0   \n",
       "1  light_denim_blue  slim_fit  24.99       None           NaN    0.99    0.0   \n",
       "2  light_denim_blue  slim_fit  24.99      33/32         180.0    0.99    0.0   \n",
       "3        denim_blue  slim_fit  24.99       None           NaN    0.99    0.0   \n",
       "4         dark_blue  slim_fit  24.99      31/32         183.0    0.99    0.0   \n",
       "\n",
       "   lyocell  polyester  spandex  elastomultiester       scrap_datetime  \n",
       "0      0.0       0.65     0.01               0.0  2023-01-30 21:06:18  \n",
       "1      0.0       0.65     0.01               0.0  2023-01-30 21:06:18  \n",
       "2      0.0       0.65     0.01               0.0  2023-01-30 21:06:18  \n",
       "3      0.0       0.65     0.01               0.0  2023-01-30 21:06:18  \n",
       "4      0.0       0.65     0.01               0.0  2023-01-30 21:06:18  "
      ]
     },
     "execution_count": 26,
     "metadata": {},
     "output_type": "execute_result"
    }
   ],
   "source": [
    "df_raw_hm.head()"
   ]
  },
  {
   "cell_type": "code",
   "execution_count": 27,
   "metadata": {},
   "outputs": [
    {
     "data": {
      "text/html": [
       "<div>\n",
       "<style scoped>\n",
       "    .dataframe tbody tr th:only-of-type {\n",
       "        vertical-align: middle;\n",
       "    }\n",
       "\n",
       "    .dataframe tbody tr th {\n",
       "        vertical-align: top;\n",
       "    }\n",
       "\n",
       "    .dataframe thead th {\n",
       "        text-align: right;\n",
       "    }\n",
       "</style>\n",
       "<table border=\"1\" class=\"dataframe\">\n",
       "  <thead>\n",
       "    <tr style=\"text-align: right;\">\n",
       "      <th></th>\n",
       "      <th>product_id</th>\n",
       "      <th>style_id</th>\n",
       "      <th>color_id</th>\n",
       "      <th>product_type</th>\n",
       "      <th>product_name</th>\n",
       "      <th>color_name</th>\n",
       "      <th>fit</th>\n",
       "      <th>price</th>\n",
       "      <th>size</th>\n",
       "      <th>composition</th>\n",
       "      <th>material_1</th>\n",
       "      <th>material_2</th>\n",
       "      <th>material_3</th>\n",
       "      <th>material_4</th>\n",
       "      <th>material_5</th>\n",
       "      <th>scrap_datetime</th>\n",
       "    </tr>\n",
       "  </thead>\n",
       "  <tbody>\n",
       "    <tr>\n",
       "      <th>0</th>\n",
       "      <td>2834585</td>\n",
       "      <td>32808</td>\n",
       "      <td>6823802.0</td>\n",
       "      <td>slim</td>\n",
       "      <td>men_512_slim_taper_fit_jeans</td>\n",
       "      <td>charred_marshmallow</td>\n",
       "      <td>taper_fit</td>\n",
       "      <td>79.5</td>\n",
       "      <td>28/30</td>\n",
       "      <td>cotton/elastane</td>\n",
       "      <td>cotton</td>\n",
       "      <td>elastane</td>\n",
       "      <td>None</td>\n",
       "      <td>None</td>\n",
       "      <td>None</td>\n",
       "      <td>2023-01-30 20:32:01</td>\n",
       "    </tr>\n",
       "    <tr>\n",
       "      <th>1</th>\n",
       "      <td>2834585</td>\n",
       "      <td>32808</td>\n",
       "      <td>2383464.0</td>\n",
       "      <td>slim</td>\n",
       "      <td>men_512_slim_taper_fit_jeans</td>\n",
       "      <td>dark_hollow_waterless</td>\n",
       "      <td>taper_fit</td>\n",
       "      <td>79.5</td>\n",
       "      <td>28/30</td>\n",
       "      <td>cotton/elastane</td>\n",
       "      <td>cotton</td>\n",
       "      <td>elastane</td>\n",
       "      <td>None</td>\n",
       "      <td>None</td>\n",
       "      <td>None</td>\n",
       "      <td>2023-01-30 20:32:01</td>\n",
       "    </tr>\n",
       "    <tr>\n",
       "      <th>2</th>\n",
       "      <td>2834585</td>\n",
       "      <td>32808</td>\n",
       "      <td>5365049.0</td>\n",
       "      <td>slim</td>\n",
       "      <td>men_512_slim_taper_fit_jeans</td>\n",
       "      <td>goldenrod</td>\n",
       "      <td>taper_fit</td>\n",
       "      <td>79.5</td>\n",
       "      <td>28/30</td>\n",
       "      <td>cotton/elastane</td>\n",
       "      <td>cotton</td>\n",
       "      <td>elastane</td>\n",
       "      <td>None</td>\n",
       "      <td>None</td>\n",
       "      <td>None</td>\n",
       "      <td>2023-01-30 20:32:01</td>\n",
       "    </tr>\n",
       "    <tr>\n",
       "      <th>3</th>\n",
       "      <td>2834585</td>\n",
       "      <td>32808</td>\n",
       "      <td>5584522.0</td>\n",
       "      <td>slim</td>\n",
       "      <td>men_512_slim_taper_fit_jeans</td>\n",
       "      <td>native_cali</td>\n",
       "      <td>taper_fit</td>\n",
       "      <td>79.5</td>\n",
       "      <td>28/30</td>\n",
       "      <td>cotton/elastane</td>\n",
       "      <td>cotton</td>\n",
       "      <td>elastane</td>\n",
       "      <td>None</td>\n",
       "      <td>None</td>\n",
       "      <td>None</td>\n",
       "      <td>2023-01-30 20:32:01</td>\n",
       "    </tr>\n",
       "    <tr>\n",
       "      <th>4</th>\n",
       "      <td>2834585</td>\n",
       "      <td>32808</td>\n",
       "      <td>2713262.0</td>\n",
       "      <td>slim</td>\n",
       "      <td>men_512_slim_taper_fit_jeans</td>\n",
       "      <td>sin_city_waterless</td>\n",
       "      <td>taper_fit</td>\n",
       "      <td>79.5</td>\n",
       "      <td>28/30</td>\n",
       "      <td>cotton/elastane</td>\n",
       "      <td>cotton</td>\n",
       "      <td>elastane</td>\n",
       "      <td>None</td>\n",
       "      <td>None</td>\n",
       "      <td>None</td>\n",
       "      <td>2023-01-30 20:32:01</td>\n",
       "    </tr>\n",
       "  </tbody>\n",
       "</table>\n",
       "</div>"
      ],
      "text/plain": [
       "   product_id  style_id   color_id product_type                  product_name  \\\n",
       "0     2834585     32808  6823802.0         slim  men_512_slim_taper_fit_jeans   \n",
       "1     2834585     32808  2383464.0         slim  men_512_slim_taper_fit_jeans   \n",
       "2     2834585     32808  5365049.0         slim  men_512_slim_taper_fit_jeans   \n",
       "3     2834585     32808  5584522.0         slim  men_512_slim_taper_fit_jeans   \n",
       "4     2834585     32808  2713262.0         slim  men_512_slim_taper_fit_jeans   \n",
       "\n",
       "              color_name        fit  price   size      composition material_1  \\\n",
       "0    charred_marshmallow  taper_fit   79.5  28/30  cotton/elastane     cotton   \n",
       "1  dark_hollow_waterless  taper_fit   79.5  28/30  cotton/elastane     cotton   \n",
       "2              goldenrod  taper_fit   79.5  28/30  cotton/elastane     cotton   \n",
       "3            native_cali  taper_fit   79.5  28/30  cotton/elastane     cotton   \n",
       "4     sin_city_waterless  taper_fit   79.5  28/30  cotton/elastane     cotton   \n",
       "\n",
       "  material_2 material_3 material_4 material_5       scrap_datetime  \n",
       "0   elastane       None       None       None  2023-01-30 20:32:01  \n",
       "1   elastane       None       None       None  2023-01-30 20:32:01  \n",
       "2   elastane       None       None       None  2023-01-30 20:32:01  \n",
       "3   elastane       None       None       None  2023-01-30 20:32:01  \n",
       "4   elastane       None       None       None  2023-01-30 20:32:01  "
      ]
     },
     "execution_count": 27,
     "metadata": {},
     "output_type": "execute_result"
    }
   ],
   "source": [
    "df_raw_macys.head()"
   ]
  },
  {
   "cell_type": "code",
   "execution_count": null,
   "metadata": {},
   "outputs": [],
   "source": [
    "df_1 = df_raw.copy()"
   ]
  },
  {
   "cell_type": "markdown",
   "metadata": {},
   "source": [
    "### Dimension data"
   ]
  },
  {
   "cell_type": "code",
   "execution_count": null,
   "metadata": {},
   "outputs": [],
   "source": [
    "print('Number of rows:', df_1.shape[0])\n",
    "print('Number of columns:', df_1.shape[1])"
   ]
  },
  {
   "cell_type": "markdown",
   "metadata": {},
   "source": [
    "### Data types\n"
   ]
  },
  {
   "cell_type": "code",
   "execution_count": null,
   "metadata": {},
   "outputs": [],
   "source": [
    "df_1.dtypes"
   ]
  },
  {
   "cell_type": "code",
   "execution_count": null,
   "metadata": {},
   "outputs": [],
   "source": [
    "df_1['scrappy_datetime'] = pd.to_datetime(df_1['scrappy_datetime'])"
   ]
  },
  {
   "cell_type": "markdown",
   "metadata": {},
   "source": [
    "### Missing data"
   ]
  },
  {
   "cell_type": "code",
   "execution_count": null,
   "metadata": {},
   "outputs": [],
   "source": [
    "df_1.isna().sum()"
   ]
  },
  {
   "cell_type": "code",
   "execution_count": null,
   "metadata": {},
   "outputs": [],
   "source": [
    "df_1.isna().sum()/df_1.shape[0]"
   ]
  },
  {
   "cell_type": "markdown",
   "metadata": {},
   "source": [
    "### Handling missing data"
   ]
  },
  {
   "cell_type": "code",
   "execution_count": null,
   "metadata": {},
   "outputs": [],
   "source": [
    "df_aux = df_1.drop(columns=['model_size', 'model_height'])"
   ]
  },
  {
   "cell_type": "markdown",
   "metadata": {},
   "source": [
    "### 1.5 Data Description\n"
   ]
  },
  {
   "cell_type": "code",
   "execution_count": null,
   "metadata": {},
   "outputs": [],
   "source": [
    "df_num = df_1.select_dtypes(include=['float64', 'int64'])\n",
    "cat_attributes = df_1.select_dtypes(exclude=['float64', 'int64','datetime64[ns]'])"
   ]
  },
  {
   "cell_type": "markdown",
   "metadata": {},
   "source": [
    "##### 1.5.1 Numeric"
   ]
  },
  {
   "cell_type": "code",
   "execution_count": null,
   "metadata": {},
   "outputs": [],
   "source": [
    "# Central tendency and Dispersion\n",
    "summary  = df_num.describe(percentiles=[0.01,0.25,0.5,0.75,0.99]).T\n",
    "summary['skew'] = df_num.skew()\n",
    "summary['kurtosis'] = df_num.kurtosis()\n",
    "summary\n",
    "\n"
   ]
  },
  {
   "cell_type": "markdown",
   "metadata": {},
   "source": [
    "##### Mínimo\n",
    " - Menor valor do conjunto de dados"
   ]
  },
  {
   "cell_type": "markdown",
   "metadata": {},
   "source": [
    "##### Máximo\n",
    "- Mairo valor do conjunto de dados"
   ]
  },
  {
   "cell_type": "markdown",
   "metadata": {},
   "source": [
    "##### Range\n",
    "- Estimativa da variabilidade ou dispersão\n",
    "- Def: A diferença entr o valor máximo e o valor mínimo"
   ]
  },
  {
   "cell_type": "markdown",
   "metadata": {},
   "source": [
    "##### Média\n",
    " - Definição: A média é a soma de todos os valores do conjunto de dados dividido pelo número de valores do conjunto.\n",
    " - Sensível a valores muito grandes ou muito pequenos (outliers)\n"
   ]
  },
  {
   "cell_type": "code",
   "execution_count": null,
   "metadata": {},
   "outputs": [],
   "source": [
    "# np.mean()"
   ]
  },
  {
   "cell_type": "markdown",
   "metadata": {},
   "source": [
    "##### Mediana\n",
    " - Def: É o valor central de um conjunto de dados ordenados.\n",
    " - Tamanho par -> média dos valores centrais\n",
    " - Tamanho ímpar -> (n+1)/2 é a posição da mediana\n",
    " - É uma medida mais robusta do que a média (não sofre efeito de valores muito elevados ou muito baixos — outliers)"
   ]
  },
  {
   "cell_type": "code",
   "execution_count": null,
   "metadata": {},
   "outputs": [],
   "source": [
    "# np.median()"
   ]
  },
  {
   "cell_type": "markdown",
   "metadata": {},
   "source": [
    "##### Desvio Padrão\n",
    " - Def: Estimativa de variabilidade ou dispersão\n",
    " - Mostra o quão dispersos dos valores do conjunto estão em relação a média. (distância média dos valores em relação a média.)"
   ]
  },
  {
   "cell_type": "code",
   "execution_count": null,
   "metadata": {},
   "outputs": [],
   "source": [
    "# np.std(ddof=1)"
   ]
  },
  {
   "cell_type": "markdown",
   "metadata": {},
   "source": [
    "##### Skewness\n",
    "\n",
    " - Def: Medida do quanto uma distribuição de dados desvia de uma distribuição normal — perfeitamente simétrica. \n",
    "\n",
    "  - Skewness Positiva e Negativa\n",
    "  \n",
    "    - mean = median -> simetric -> skew = 0\n",
    "\n",
    "    - median > mean -> skews left (negative -> mean - median = -)\n",
    "\n",
    "    - median < mean ->  skews right (positive -> mean - median = +)\n",
    "\n",
    " - Mostra a concentração dos dados de um lado da média.\n",
    " - Algoritmos de Machine Learning precisam treinar com dados não enviesados, ou seja, a distribuição da variável target deve ser mais simétrica possível."
   ]
  },
  {
   "cell_type": "markdown",
   "metadata": {},
   "source": [
    "##### Kurtosis\n",
    "\n",
    " - Def: Descreve a distribuição dos dados em torno da média.\n",
    "  - Evidencia uma distribuição de caudas longas (probabilidade baixa de acontecer valores extremos).\n",
    "  Kurtosis baixa -> maior probabilidade de valores extremos ocorrerem. "
   ]
  },
  {
   "cell_type": "markdown",
   "metadata": {},
   "source": [
    "#### 1.5.2 Categorical"
   ]
  },
  {
   "cell_type": "markdown",
   "metadata": {},
   "source": [
    "## Passo 2 - Feature Engineering"
   ]
  },
  {
   "cell_type": "code",
   "execution_count": null,
   "metadata": {},
   "outputs": [],
   "source": [
    "df_aux"
   ]
  },
  {
   "cell_type": "code",
   "execution_count": null,
   "metadata": {},
   "outputs": [],
   "source": [
    "df_aux[['product_id', 'product_name',  'color_name', 'price']].groupby([ 'product_name',  'color_name']).mean()"
   ]
  },
  {
   "cell_type": "markdown",
   "metadata": {},
   "source": [
    "## Passo 3 - Filtragem de atributos"
   ]
  },
  {
   "cell_type": "code",
   "execution_count": null,
   "metadata": {},
   "outputs": [],
   "source": [
    "# Passo 4 - EDA ( Exploratory Data Analysis)"
   ]
  }
 ],
 "metadata": {
  "kernelspec": {
   "display_name": "Python 3.9.12 ('scrappenv')",
   "language": "python",
   "name": "python3"
  },
  "language_info": {
   "codemirror_mode": {
    "name": "ipython",
    "version": 3
   },
   "file_extension": ".py",
   "mimetype": "text/x-python",
   "name": "python",
   "nbconvert_exporter": "python",
   "pygments_lexer": "ipython3",
   "version": "3.9.12"
  },
  "orig_nbformat": 4,
  "vscode": {
   "interpreter": {
    "hash": "8f1f5c24d7514b3cb7ea3e0e3d3ecf8f306eac1049c5371266b2062e1dc43a41"
   }
  }
 },
 "nbformat": 4,
 "nbformat_minor": 2
}
