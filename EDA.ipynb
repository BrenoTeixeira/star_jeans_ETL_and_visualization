{
 "cells": [
  {
   "cell_type": "code",
   "execution_count": 84,
   "metadata": {},
   "outputs": [],
   "source": [
    "# Imports\n",
    "import pandas as pd\n",
    "from sqlalchemy import create_engine\n",
    "import numpy as np\n",
    "import os\n",
    "import matplotlib.pyplot as plt\n",
    "import seaborn as sns\n",
    "import plotly.express as px\n",
    "import plotly.graph_objects as go"
   ]
  },
  {
   "cell_type": "code",
   "execution_count": 85,
   "metadata": {},
   "outputs": [],
   "source": [
    "if (os.environ.get('DB_TYPE') == None):\n",
    "    from dotenv import load_dotenv\n",
    "    from config.definitions import ROOT_DIR\n",
    "    load_dotenv(os.path.join(ROOT_DIR, 'config', 'conf', '.env'))"
   ]
  },
  {
   "cell_type": "code",
   "execution_count": 86,
   "metadata": {},
   "outputs": [
    {
     "name": "stdout",
     "output_type": "stream",
     "text": [
      "postgresql\n"
     ]
    }
   ],
   "source": [
    "# Database Credentials\n",
    "\n",
    "db_type = os.environ.get(\"DB_TYPE\")\n",
    "user = os.environ.get('DB_USER')\n",
    "pswd = os.environ.get('DB_PASS')\n",
    "host = os.environ.get('DB_HOST')\n",
    "db_name = os.environ.get('DB_NAME')\n",
    "print(db_type)"
   ]
  },
  {
   "cell_type": "code",
   "execution_count": 4,
   "metadata": {},
   "outputs": [],
   "source": [
    "engine = create_engine(f'{db_type}+psycopg2://{user}:{pswd}@{host}/{db_name}', echo=False)"
   ]
  },
  {
   "cell_type": "code",
   "execution_count": 5,
   "metadata": {},
   "outputs": [],
   "source": [
    "conn = engine.connect()"
   ]
  },
  {
   "cell_type": "code",
   "execution_count": 6,
   "metadata": {},
   "outputs": [
    {
     "name": "stdout",
     "output_type": "stream",
     "text": [
      "('vitrine_hm',)\n",
      "('vitrine_marcy',)\n"
     ]
    }
   ],
   "source": [
    "query = \"SELECT table_name FROM information_schema.tables\\\n",
    "        WHERE table_schema = 'public'\"\n",
    "exec = conn.execute(query)\n",
    "\n",
    "for table in exec.fetchall():\n",
    "    print(table)"
   ]
  },
  {
   "cell_type": "code",
   "execution_count": 7,
   "metadata": {},
   "outputs": [],
   "source": [
    "query_h = \"\"\"SELECT * FROM vitrine_hm\"\"\"\n",
    "query_m = \"\"\"SELECT * FROM vitrine_marcy\"\"\""
   ]
  },
  {
   "cell_type": "code",
   "execution_count": 8,
   "metadata": {},
   "outputs": [],
   "source": [
    "df_raw_hm = pd.read_sql(query_h, con=conn)\n",
    "df_raw_macys = pd.read_sql(query_m, con=conn)"
   ]
  },
  {
   "cell_type": "markdown",
   "metadata": {},
   "source": [
    "# H&M"
   ]
  },
  {
   "cell_type": "code",
   "execution_count": 9,
   "metadata": {},
   "outputs": [
    {
     "data": {
      "text/html": [
       "<div>\n",
       "<style scoped>\n",
       "    .dataframe tbody tr th:only-of-type {\n",
       "        vertical-align: middle;\n",
       "    }\n",
       "\n",
       "    .dataframe tbody tr th {\n",
       "        vertical-align: top;\n",
       "    }\n",
       "\n",
       "    .dataframe thead th {\n",
       "        text-align: right;\n",
       "    }\n",
       "</style>\n",
       "<table border=\"1\" class=\"dataframe\">\n",
       "  <thead>\n",
       "    <tr style=\"text-align: right;\">\n",
       "      <th></th>\n",
       "      <th>product_id</th>\n",
       "      <th>style_id</th>\n",
       "      <th>color_id</th>\n",
       "      <th>product_type</th>\n",
       "      <th>product_name</th>\n",
       "      <th>color_name</th>\n",
       "      <th>fit</th>\n",
       "      <th>price</th>\n",
       "      <th>model_size</th>\n",
       "      <th>model_height</th>\n",
       "      <th>cotton</th>\n",
       "      <th>rayon</th>\n",
       "      <th>lyocell</th>\n",
       "      <th>polyester</th>\n",
       "      <th>spandex</th>\n",
       "      <th>elastomultiester</th>\n",
       "      <th>scrap_datetime</th>\n",
       "    </tr>\n",
       "  </thead>\n",
       "  <tbody>\n",
       "    <tr>\n",
       "      <th>0</th>\n",
       "      <td>1024256001</td>\n",
       "      <td>1024256</td>\n",
       "      <td>1</td>\n",
       "      <td>men_jeans_slim</td>\n",
       "      <td>slim_jeans</td>\n",
       "      <td>black</td>\n",
       "      <td>slim_fit</td>\n",
       "      <td>24.99</td>\n",
       "      <td>33/32</td>\n",
       "      <td>180.0</td>\n",
       "      <td>0.99</td>\n",
       "      <td>0.0</td>\n",
       "      <td>0.0</td>\n",
       "      <td>0.65</td>\n",
       "      <td>0.01</td>\n",
       "      <td>0.0</td>\n",
       "      <td>2023-01-30 21:06:18</td>\n",
       "    </tr>\n",
       "    <tr>\n",
       "      <th>1</th>\n",
       "      <td>1024256002</td>\n",
       "      <td>1024256</td>\n",
       "      <td>2</td>\n",
       "      <td>men_jeans_slim</td>\n",
       "      <td>slim_jeans</td>\n",
       "      <td>light_denim_blue</td>\n",
       "      <td>slim_fit</td>\n",
       "      <td>24.99</td>\n",
       "      <td>None</td>\n",
       "      <td>NaN</td>\n",
       "      <td>0.99</td>\n",
       "      <td>0.0</td>\n",
       "      <td>0.0</td>\n",
       "      <td>0.65</td>\n",
       "      <td>0.01</td>\n",
       "      <td>0.0</td>\n",
       "      <td>2023-01-30 21:06:18</td>\n",
       "    </tr>\n",
       "    <tr>\n",
       "      <th>2</th>\n",
       "      <td>1024256003</td>\n",
       "      <td>1024256</td>\n",
       "      <td>3</td>\n",
       "      <td>men_jeans_slim</td>\n",
       "      <td>slim_jeans</td>\n",
       "      <td>light_denim_blue</td>\n",
       "      <td>slim_fit</td>\n",
       "      <td>24.99</td>\n",
       "      <td>33/32</td>\n",
       "      <td>180.0</td>\n",
       "      <td>0.99</td>\n",
       "      <td>0.0</td>\n",
       "      <td>0.0</td>\n",
       "      <td>0.65</td>\n",
       "      <td>0.01</td>\n",
       "      <td>0.0</td>\n",
       "      <td>2023-01-30 21:06:18</td>\n",
       "    </tr>\n",
       "    <tr>\n",
       "      <th>3</th>\n",
       "      <td>1024256004</td>\n",
       "      <td>1024256</td>\n",
       "      <td>4</td>\n",
       "      <td>men_jeans_slim</td>\n",
       "      <td>slim_jeans</td>\n",
       "      <td>denim_blue</td>\n",
       "      <td>slim_fit</td>\n",
       "      <td>24.99</td>\n",
       "      <td>None</td>\n",
       "      <td>NaN</td>\n",
       "      <td>0.99</td>\n",
       "      <td>0.0</td>\n",
       "      <td>0.0</td>\n",
       "      <td>0.65</td>\n",
       "      <td>0.01</td>\n",
       "      <td>0.0</td>\n",
       "      <td>2023-01-30 21:06:18</td>\n",
       "    </tr>\n",
       "    <tr>\n",
       "      <th>4</th>\n",
       "      <td>1024256005</td>\n",
       "      <td>1024256</td>\n",
       "      <td>5</td>\n",
       "      <td>men_jeans_slim</td>\n",
       "      <td>slim_jeans</td>\n",
       "      <td>dark_blue</td>\n",
       "      <td>slim_fit</td>\n",
       "      <td>24.99</td>\n",
       "      <td>31/32</td>\n",
       "      <td>183.0</td>\n",
       "      <td>0.99</td>\n",
       "      <td>0.0</td>\n",
       "      <td>0.0</td>\n",
       "      <td>0.65</td>\n",
       "      <td>0.01</td>\n",
       "      <td>0.0</td>\n",
       "      <td>2023-01-30 21:06:18</td>\n",
       "    </tr>\n",
       "  </tbody>\n",
       "</table>\n",
       "</div>"
      ],
      "text/plain": [
       "   product_id  style_id  color_id    product_type product_name  \\\n",
       "0  1024256001   1024256         1  men_jeans_slim   slim_jeans   \n",
       "1  1024256002   1024256         2  men_jeans_slim   slim_jeans   \n",
       "2  1024256003   1024256         3  men_jeans_slim   slim_jeans   \n",
       "3  1024256004   1024256         4  men_jeans_slim   slim_jeans   \n",
       "4  1024256005   1024256         5  men_jeans_slim   slim_jeans   \n",
       "\n",
       "         color_name       fit  price model_size  model_height  cotton  rayon  \\\n",
       "0             black  slim_fit  24.99      33/32         180.0    0.99    0.0   \n",
       "1  light_denim_blue  slim_fit  24.99       None           NaN    0.99    0.0   \n",
       "2  light_denim_blue  slim_fit  24.99      33/32         180.0    0.99    0.0   \n",
       "3        denim_blue  slim_fit  24.99       None           NaN    0.99    0.0   \n",
       "4         dark_blue  slim_fit  24.99      31/32         183.0    0.99    0.0   \n",
       "\n",
       "   lyocell  polyester  spandex  elastomultiester       scrap_datetime  \n",
       "0      0.0       0.65     0.01               0.0  2023-01-30 21:06:18  \n",
       "1      0.0       0.65     0.01               0.0  2023-01-30 21:06:18  \n",
       "2      0.0       0.65     0.01               0.0  2023-01-30 21:06:18  \n",
       "3      0.0       0.65     0.01               0.0  2023-01-30 21:06:18  \n",
       "4      0.0       0.65     0.01               0.0  2023-01-30 21:06:18  "
      ]
     },
     "execution_count": 9,
     "metadata": {},
     "output_type": "execute_result"
    }
   ],
   "source": [
    "df_raw_hm.head()"
   ]
  },
  {
   "cell_type": "code",
   "execution_count": 10,
   "metadata": {},
   "outputs": [],
   "source": [
    "df_hm1 = df_raw_hm.copy()"
   ]
  },
  {
   "attachments": {},
   "cell_type": "markdown",
   "metadata": {},
   "source": [
    "### Data Dimension "
   ]
  },
  {
   "cell_type": "code",
   "execution_count": 11,
   "metadata": {},
   "outputs": [
    {
     "name": "stdout",
     "output_type": "stream",
     "text": [
      "Number of rows: 12101\n",
      "Number of columns: 17\n"
     ]
    }
   ],
   "source": [
    "print('Number of rows:', df_hm1.shape[0])\n",
    "print('Number of columns:', df_hm1.shape[1])"
   ]
  },
  {
   "cell_type": "markdown",
   "metadata": {},
   "source": [
    "### Data types\n"
   ]
  },
  {
   "cell_type": "code",
   "execution_count": 12,
   "metadata": {},
   "outputs": [
    {
     "data": {
      "text/plain": [
       "product_id            int64\n",
       "style_id              int64\n",
       "color_id              int64\n",
       "product_type         object\n",
       "product_name         object\n",
       "color_name           object\n",
       "fit                  object\n",
       "price               float64\n",
       "model_size           object\n",
       "model_height        float64\n",
       "cotton              float64\n",
       "rayon               float64\n",
       "lyocell             float64\n",
       "polyester           float64\n",
       "spandex             float64\n",
       "elastomultiester    float64\n",
       "scrap_datetime       object\n",
       "dtype: object"
      ]
     },
     "execution_count": 12,
     "metadata": {},
     "output_type": "execute_result"
    }
   ],
   "source": [
    "df_hm1.dtypes"
   ]
  },
  {
   "cell_type": "code",
   "execution_count": 13,
   "metadata": {},
   "outputs": [],
   "source": [
    "df_hm1['scrap_datetime'] = pd.to_datetime(df_hm1['scrap_datetime'])"
   ]
  },
  {
   "cell_type": "markdown",
   "metadata": {},
   "source": [
    "### Missing data"
   ]
  },
  {
   "cell_type": "code",
   "execution_count": 14,
   "metadata": {},
   "outputs": [
    {
     "data": {
      "text/plain": [
       "product_id             0\n",
       "style_id               0\n",
       "color_id               0\n",
       "product_type           0\n",
       "product_name           0\n",
       "color_name             0\n",
       "fit                    0\n",
       "price                  0\n",
       "model_size          6488\n",
       "model_height        5720\n",
       "cotton                 0\n",
       "rayon                  0\n",
       "lyocell                0\n",
       "polyester              0\n",
       "spandex                0\n",
       "elastomultiester       0\n",
       "scrap_datetime         0\n",
       "dtype: int64"
      ]
     },
     "execution_count": 14,
     "metadata": {},
     "output_type": "execute_result"
    }
   ],
   "source": [
    "df_hm1.isna().sum()"
   ]
  },
  {
   "cell_type": "code",
   "execution_count": 15,
   "metadata": {},
   "outputs": [
    {
     "data": {
      "text/plain": [
       "product_id           0.000000\n",
       "style_id             0.000000\n",
       "color_id             0.000000\n",
       "product_type         0.000000\n",
       "product_name         0.000000\n",
       "color_name           0.000000\n",
       "fit                  0.000000\n",
       "price                0.000000\n",
       "model_size          53.615404\n",
       "model_height        47.268821\n",
       "cotton               0.000000\n",
       "rayon                0.000000\n",
       "lyocell              0.000000\n",
       "polyester            0.000000\n",
       "spandex              0.000000\n",
       "elastomultiester     0.000000\n",
       "scrap_datetime       0.000000\n",
       "dtype: float64"
      ]
     },
     "execution_count": 15,
     "metadata": {},
     "output_type": "execute_result"
    }
   ],
   "source": [
    "df_hm1.isna().sum()/df_hm1.shape[0]*100"
   ]
  },
  {
   "cell_type": "markdown",
   "metadata": {},
   "source": [
    "### Handling missing data"
   ]
  },
  {
   "attachments": {},
   "cell_type": "markdown",
   "metadata": {},
   "source": [
    "Model size and height won't be necessary for analysis. So these features will be dropped."
   ]
  },
  {
   "cell_type": "code",
   "execution_count": 16,
   "metadata": {},
   "outputs": [],
   "source": [
    "df_hm2 = df_hm1.drop(columns=['model_size', 'model_height'])"
   ]
  },
  {
   "cell_type": "markdown",
   "metadata": {},
   "source": [
    "### 1.5 Data Description\n"
   ]
  },
  {
   "cell_type": "code",
   "execution_count": 17,
   "metadata": {},
   "outputs": [],
   "source": [
    "df_num = df_hm2.select_dtypes(include=['float64', 'int64']).drop(['product_id', 'style_id', 'color_id'], axis=1)\n",
    "cat_attributes = df_hm2.select_dtypes(exclude=['float64', 'int64','datetime64[ns]'])"
   ]
  },
  {
   "cell_type": "markdown",
   "metadata": {},
   "source": [
    "##### 1.5.1 Numeric"
   ]
  },
  {
   "cell_type": "code",
   "execution_count": 18,
   "metadata": {},
   "outputs": [
    {
     "data": {
      "text/html": [
       "<div>\n",
       "<style scoped>\n",
       "    .dataframe tbody tr th:only-of-type {\n",
       "        vertical-align: middle;\n",
       "    }\n",
       "\n",
       "    .dataframe tbody tr th {\n",
       "        vertical-align: top;\n",
       "    }\n",
       "\n",
       "    .dataframe thead th {\n",
       "        text-align: right;\n",
       "    }\n",
       "</style>\n",
       "<table border=\"1\" class=\"dataframe\">\n",
       "  <thead>\n",
       "    <tr style=\"text-align: right;\">\n",
       "      <th></th>\n",
       "      <th>count</th>\n",
       "      <th>mean</th>\n",
       "      <th>std</th>\n",
       "      <th>min</th>\n",
       "      <th>1%</th>\n",
       "      <th>25%</th>\n",
       "      <th>50%</th>\n",
       "      <th>75%</th>\n",
       "      <th>99%</th>\n",
       "      <th>max</th>\n",
       "      <th>skew</th>\n",
       "      <th>kurtosis</th>\n",
       "    </tr>\n",
       "  </thead>\n",
       "  <tbody>\n",
       "    <tr>\n",
       "      <th>price</th>\n",
       "      <td>12101.0</td>\n",
       "      <td>36.151474</td>\n",
       "      <td>7.634201</td>\n",
       "      <td>19.99</td>\n",
       "      <td>19.99</td>\n",
       "      <td>29.99</td>\n",
       "      <td>39.99</td>\n",
       "      <td>39.99</td>\n",
       "      <td>49.99</td>\n",
       "      <td>49.99</td>\n",
       "      <td>-0.531708</td>\n",
       "      <td>-0.444905</td>\n",
       "    </tr>\n",
       "    <tr>\n",
       "      <th>cotton</th>\n",
       "      <td>12101.0</td>\n",
       "      <td>0.974980</td>\n",
       "      <td>0.058115</td>\n",
       "      <td>0.35</td>\n",
       "      <td>0.77</td>\n",
       "      <td>0.98</td>\n",
       "      <td>0.99</td>\n",
       "      <td>1.00</td>\n",
       "      <td>1.00</td>\n",
       "      <td>1.00</td>\n",
       "      <td>-2.958518</td>\n",
       "      <td>8.453423</td>\n",
       "    </tr>\n",
       "    <tr>\n",
       "      <th>rayon</th>\n",
       "      <td>12101.0</td>\n",
       "      <td>0.000752</td>\n",
       "      <td>0.011881</td>\n",
       "      <td>0.00</td>\n",
       "      <td>0.00</td>\n",
       "      <td>0.00</td>\n",
       "      <td>0.00</td>\n",
       "      <td>0.00</td>\n",
       "      <td>0.00</td>\n",
       "      <td>0.50</td>\n",
       "      <td>21.111226</td>\n",
       "      <td>623.679700</td>\n",
       "    </tr>\n",
       "    <tr>\n",
       "      <th>lyocell</th>\n",
       "      <td>12101.0</td>\n",
       "      <td>0.002537</td>\n",
       "      <td>0.037214</td>\n",
       "      <td>0.00</td>\n",
       "      <td>0.00</td>\n",
       "      <td>0.00</td>\n",
       "      <td>0.00</td>\n",
       "      <td>0.00</td>\n",
       "      <td>0.00</td>\n",
       "      <td>0.55</td>\n",
       "      <td>14.605547</td>\n",
       "      <td>211.409211</td>\n",
       "    </tr>\n",
       "    <tr>\n",
       "      <th>polyester</th>\n",
       "      <td>12101.0</td>\n",
       "      <td>0.380097</td>\n",
       "      <td>0.331351</td>\n",
       "      <td>0.00</td>\n",
       "      <td>0.00</td>\n",
       "      <td>0.00</td>\n",
       "      <td>0.65</td>\n",
       "      <td>0.65</td>\n",
       "      <td>1.00</td>\n",
       "      <td>1.00</td>\n",
       "      <td>-0.104156</td>\n",
       "      <td>-1.731018</td>\n",
       "    </tr>\n",
       "    <tr>\n",
       "      <th>spandex</th>\n",
       "      <td>12101.0</td>\n",
       "      <td>0.009183</td>\n",
       "      <td>0.007540</td>\n",
       "      <td>0.00</td>\n",
       "      <td>0.00</td>\n",
       "      <td>0.00</td>\n",
       "      <td>0.01</td>\n",
       "      <td>0.01</td>\n",
       "      <td>0.02</td>\n",
       "      <td>0.02</td>\n",
       "      <td>0.135785</td>\n",
       "      <td>-1.231780</td>\n",
       "    </tr>\n",
       "    <tr>\n",
       "      <th>elastomultiester</th>\n",
       "      <td>12101.0</td>\n",
       "      <td>0.003156</td>\n",
       "      <td>0.015977</td>\n",
       "      <td>0.00</td>\n",
       "      <td>0.00</td>\n",
       "      <td>0.00</td>\n",
       "      <td>0.00</td>\n",
       "      <td>0.00</td>\n",
       "      <td>0.09</td>\n",
       "      <td>0.09</td>\n",
       "      <td>4.883892</td>\n",
       "      <td>21.955914</td>\n",
       "    </tr>\n",
       "  </tbody>\n",
       "</table>\n",
       "</div>"
      ],
      "text/plain": [
       "                    count       mean       std    min     1%    25%    50%  \\\n",
       "price             12101.0  36.151474  7.634201  19.99  19.99  29.99  39.99   \n",
       "cotton            12101.0   0.974980  0.058115   0.35   0.77   0.98   0.99   \n",
       "rayon             12101.0   0.000752  0.011881   0.00   0.00   0.00   0.00   \n",
       "lyocell           12101.0   0.002537  0.037214   0.00   0.00   0.00   0.00   \n",
       "polyester         12101.0   0.380097  0.331351   0.00   0.00   0.00   0.65   \n",
       "spandex           12101.0   0.009183  0.007540   0.00   0.00   0.00   0.01   \n",
       "elastomultiester  12101.0   0.003156  0.015977   0.00   0.00   0.00   0.00   \n",
       "\n",
       "                    75%    99%    max       skew    kurtosis  \n",
       "price             39.99  49.99  49.99  -0.531708   -0.444905  \n",
       "cotton             1.00   1.00   1.00  -2.958518    8.453423  \n",
       "rayon              0.00   0.00   0.50  21.111226  623.679700  \n",
       "lyocell            0.00   0.00   0.55  14.605547  211.409211  \n",
       "polyester          0.65   1.00   1.00  -0.104156   -1.731018  \n",
       "spandex            0.01   0.02   0.02   0.135785   -1.231780  \n",
       "elastomultiester   0.00   0.09   0.09   4.883892   21.955914  "
      ]
     },
     "execution_count": 18,
     "metadata": {},
     "output_type": "execute_result"
    }
   ],
   "source": [
    "# Central tendency and Dispersion\n",
    "summary  = df_num.describe(percentiles=[0.01,0.25,0.5,0.75,0.99]).T\n",
    "summary['skew'] = df_num.skew()\n",
    "summary['kurtosis'] = df_num.kurtosis()\n",
    "summary\n"
   ]
  },
  {
   "cell_type": "markdown",
   "metadata": {},
   "source": [
    "## Passo 2 - Feature Engineering"
   ]
  },
  {
   "cell_type": "code",
   "execution_count": 30,
   "metadata": {},
   "outputs": [],
   "source": [
    "df_hm2['year'] = df_hm2['scrap_datetime'].dt.year\n",
    "df_hm2['month'] = df_hm2['scrap_datetime'].dt.month\n",
    "df_hm2['day'] = df_hm2['scrap_datetime'].dt.day\n",
    "df_hm2['week'] = df_hm2['scrap_datetime'].dt.isocalendar().week\n",
    "df_hm2['week_day'] = df_hm2['scrap_datetime'].dt.weekday\n",
    "df_hm2['hour'] = df_hm2['scrap_datetime'].dt.hour\n",
    "df_hm2['minute'] = df_hm2['scrap_datetime'].dt.minute\n",
    "df_hm2['month_day'] = df_hm2['scrap_datetime'].dt.strftime('%m-%d')"
   ]
  },
  {
   "cell_type": "code",
   "execution_count": 31,
   "metadata": {},
   "outputs": [
    {
     "data": {
      "text/html": [
       "<div>\n",
       "<style scoped>\n",
       "    .dataframe tbody tr th:only-of-type {\n",
       "        vertical-align: middle;\n",
       "    }\n",
       "\n",
       "    .dataframe tbody tr th {\n",
       "        vertical-align: top;\n",
       "    }\n",
       "\n",
       "    .dataframe thead th {\n",
       "        text-align: right;\n",
       "    }\n",
       "</style>\n",
       "<table border=\"1\" class=\"dataframe\">\n",
       "  <thead>\n",
       "    <tr style=\"text-align: right;\">\n",
       "      <th></th>\n",
       "      <th>product_id</th>\n",
       "      <th>style_id</th>\n",
       "      <th>color_id</th>\n",
       "      <th>product_type</th>\n",
       "      <th>product_name</th>\n",
       "      <th>color_name</th>\n",
       "      <th>fit</th>\n",
       "      <th>price</th>\n",
       "      <th>cotton</th>\n",
       "      <th>rayon</th>\n",
       "      <th>...</th>\n",
       "      <th>elastomultiester</th>\n",
       "      <th>scrap_datetime</th>\n",
       "      <th>year</th>\n",
       "      <th>month</th>\n",
       "      <th>day</th>\n",
       "      <th>week</th>\n",
       "      <th>week_day</th>\n",
       "      <th>hour</th>\n",
       "      <th>minute</th>\n",
       "      <th>month_day</th>\n",
       "    </tr>\n",
       "  </thead>\n",
       "  <tbody>\n",
       "    <tr>\n",
       "      <th>0</th>\n",
       "      <td>1024256001</td>\n",
       "      <td>1024256</td>\n",
       "      <td>1</td>\n",
       "      <td>men_jeans_slim</td>\n",
       "      <td>slim_jeans</td>\n",
       "      <td>black</td>\n",
       "      <td>slim_fit</td>\n",
       "      <td>24.99</td>\n",
       "      <td>0.99</td>\n",
       "      <td>0.0</td>\n",
       "      <td>...</td>\n",
       "      <td>0.0</td>\n",
       "      <td>2023-01-30 21:06:18</td>\n",
       "      <td>2023</td>\n",
       "      <td>1</td>\n",
       "      <td>30</td>\n",
       "      <td>5</td>\n",
       "      <td>0</td>\n",
       "      <td>21</td>\n",
       "      <td>6</td>\n",
       "      <td>01-30</td>\n",
       "    </tr>\n",
       "    <tr>\n",
       "      <th>1</th>\n",
       "      <td>1024256002</td>\n",
       "      <td>1024256</td>\n",
       "      <td>2</td>\n",
       "      <td>men_jeans_slim</td>\n",
       "      <td>slim_jeans</td>\n",
       "      <td>light_denim_blue</td>\n",
       "      <td>slim_fit</td>\n",
       "      <td>24.99</td>\n",
       "      <td>0.99</td>\n",
       "      <td>0.0</td>\n",
       "      <td>...</td>\n",
       "      <td>0.0</td>\n",
       "      <td>2023-01-30 21:06:18</td>\n",
       "      <td>2023</td>\n",
       "      <td>1</td>\n",
       "      <td>30</td>\n",
       "      <td>5</td>\n",
       "      <td>0</td>\n",
       "      <td>21</td>\n",
       "      <td>6</td>\n",
       "      <td>01-30</td>\n",
       "    </tr>\n",
       "    <tr>\n",
       "      <th>2</th>\n",
       "      <td>1024256003</td>\n",
       "      <td>1024256</td>\n",
       "      <td>3</td>\n",
       "      <td>men_jeans_slim</td>\n",
       "      <td>slim_jeans</td>\n",
       "      <td>light_denim_blue</td>\n",
       "      <td>slim_fit</td>\n",
       "      <td>24.99</td>\n",
       "      <td>0.99</td>\n",
       "      <td>0.0</td>\n",
       "      <td>...</td>\n",
       "      <td>0.0</td>\n",
       "      <td>2023-01-30 21:06:18</td>\n",
       "      <td>2023</td>\n",
       "      <td>1</td>\n",
       "      <td>30</td>\n",
       "      <td>5</td>\n",
       "      <td>0</td>\n",
       "      <td>21</td>\n",
       "      <td>6</td>\n",
       "      <td>01-30</td>\n",
       "    </tr>\n",
       "    <tr>\n",
       "      <th>3</th>\n",
       "      <td>1024256004</td>\n",
       "      <td>1024256</td>\n",
       "      <td>4</td>\n",
       "      <td>men_jeans_slim</td>\n",
       "      <td>slim_jeans</td>\n",
       "      <td>denim_blue</td>\n",
       "      <td>slim_fit</td>\n",
       "      <td>24.99</td>\n",
       "      <td>0.99</td>\n",
       "      <td>0.0</td>\n",
       "      <td>...</td>\n",
       "      <td>0.0</td>\n",
       "      <td>2023-01-30 21:06:18</td>\n",
       "      <td>2023</td>\n",
       "      <td>1</td>\n",
       "      <td>30</td>\n",
       "      <td>5</td>\n",
       "      <td>0</td>\n",
       "      <td>21</td>\n",
       "      <td>6</td>\n",
       "      <td>01-30</td>\n",
       "    </tr>\n",
       "    <tr>\n",
       "      <th>4</th>\n",
       "      <td>1024256005</td>\n",
       "      <td>1024256</td>\n",
       "      <td>5</td>\n",
       "      <td>men_jeans_slim</td>\n",
       "      <td>slim_jeans</td>\n",
       "      <td>dark_blue</td>\n",
       "      <td>slim_fit</td>\n",
       "      <td>24.99</td>\n",
       "      <td>0.99</td>\n",
       "      <td>0.0</td>\n",
       "      <td>...</td>\n",
       "      <td>0.0</td>\n",
       "      <td>2023-01-30 21:06:18</td>\n",
       "      <td>2023</td>\n",
       "      <td>1</td>\n",
       "      <td>30</td>\n",
       "      <td>5</td>\n",
       "      <td>0</td>\n",
       "      <td>21</td>\n",
       "      <td>6</td>\n",
       "      <td>01-30</td>\n",
       "    </tr>\n",
       "  </tbody>\n",
       "</table>\n",
       "<p>5 rows × 23 columns</p>\n",
       "</div>"
      ],
      "text/plain": [
       "   product_id  style_id  color_id    product_type product_name  \\\n",
       "0  1024256001   1024256         1  men_jeans_slim   slim_jeans   \n",
       "1  1024256002   1024256         2  men_jeans_slim   slim_jeans   \n",
       "2  1024256003   1024256         3  men_jeans_slim   slim_jeans   \n",
       "3  1024256004   1024256         4  men_jeans_slim   slim_jeans   \n",
       "4  1024256005   1024256         5  men_jeans_slim   slim_jeans   \n",
       "\n",
       "         color_name       fit  price  cotton  rayon  ...  elastomultiester  \\\n",
       "0             black  slim_fit  24.99    0.99    0.0  ...               0.0   \n",
       "1  light_denim_blue  slim_fit  24.99    0.99    0.0  ...               0.0   \n",
       "2  light_denim_blue  slim_fit  24.99    0.99    0.0  ...               0.0   \n",
       "3        denim_blue  slim_fit  24.99    0.99    0.0  ...               0.0   \n",
       "4         dark_blue  slim_fit  24.99    0.99    0.0  ...               0.0   \n",
       "\n",
       "       scrap_datetime  year  month day  week  week_day  hour  minute  \\\n",
       "0 2023-01-30 21:06:18  2023      1  30     5         0    21       6   \n",
       "1 2023-01-30 21:06:18  2023      1  30     5         0    21       6   \n",
       "2 2023-01-30 21:06:18  2023      1  30     5         0    21       6   \n",
       "3 2023-01-30 21:06:18  2023      1  30     5         0    21       6   \n",
       "4 2023-01-30 21:06:18  2023      1  30     5         0    21       6   \n",
       "\n",
       "   month_day  \n",
       "0      01-30  \n",
       "1      01-30  \n",
       "2      01-30  \n",
       "3      01-30  \n",
       "4      01-30  \n",
       "\n",
       "[5 rows x 23 columns]"
      ]
     },
     "execution_count": 31,
     "metadata": {},
     "output_type": "execute_result"
    }
   ],
   "source": [
    "df_hm2.head()"
   ]
  },
  {
   "cell_type": "code",
   "execution_count": 48,
   "metadata": {},
   "outputs": [],
   "source": [
    "df_aux_mean = df_hm2[['product_type', 'price']].groupby('product_type').mean().reset_index()\n",
    "df_aux_min = df_hm2[['product_type', 'price']].groupby('product_type').min().reset_index()\n",
    "df_aux_max = df_hm2[['product_type', 'price']].groupby('product_type').max().reset_index()"
   ]
  },
  {
   "cell_type": "code",
   "execution_count": 49,
   "metadata": {},
   "outputs": [
    {
     "data": {
      "text/plain": [
       "<AxesSubplot: xlabel='product_type', ylabel='price'>"
      ]
     },
     "execution_count": 49,
     "metadata": {},
     "output_type": "execute_result"
    },
    {
     "data": {
      "image/png": "[encoded data removed]",
      "text/plain": [
       "<Figure size 2500x800 with 1 Axes>"
      ]
     },
     "metadata": {},
     "output_type": "display_data"
    }
   ],
   "source": [
    "plt.figure(figsize=(25, 8))\n",
    "sns.barplot(data=df_aux_mean, x='product_type', y='price')"
   ]
  },
  {
   "cell_type": "code",
   "execution_count": null,
   "metadata": {},
   "outputs": [
    {
     "data": {
      "text/plain": [
       "<AxesSubplot: xlabel='product_type', ylabel='price'>"
      ]
     },
     "metadata": {},
     "output_type": "display_data"
    },
    {
     "data": {
      "image/png": "[encoded data removed]",
      "text/plain": [
       "<Figure size 2500x800 with 1 Axes>"
      ]
     },
     "metadata": {},
     "output_type": "display_data"
    }
   ],
   "source": [
    "plt.figure(figsize=(25, 8))\n",
    "sns.barplot(data=df_aux_min, x='product_type', y='price')"
   ]
  },
  {
   "cell_type": "code",
   "execution_count": 51,
   "metadata": {},
   "outputs": [
    {
     "data": {
      "text/plain": [
       "<AxesSubplot: xlabel='product_type', ylabel='price'>"
      ]
     },
     "execution_count": 51,
     "metadata": {},
     "output_type": "execute_result"
    },
    {
     "data": {
      "image/png": "[encoded data removed]",
      "text/plain": [
       "<Figure size 2500x800 with 1 Axes>"
      ]
     },
     "metadata": {},
     "output_type": "display_data"
    }
   ],
   "source": [
    "plt.figure(figsize=(25, 8))\n",
    "sns.barplot(data=df_aux_max, x='product_type', y='price')"
   ]
  },
  {
   "cell_type": "code",
   "execution_count": 41,
   "metadata": {},
   "outputs": [
    {
     "data": {
      "text/plain": [
       "regular_jeans                     1807\n",
       "skinny_jeans                      1764\n",
       "relaxed_jeans                     1483\n",
       "slim_jeans                        1368\n",
       "loose_jeans                       1318\n",
       "hybrid_regular_tapered_joggers     597\n",
       "slim_tapered_jeans                 513\n",
       "freefit®_slim_jeans                456\n",
       "skinny_crop_jeans                  342\n",
       "regular_tapered_crop_jeans         336\n",
       "hybrid_regular_jeans               285\n",
       "slim_tapered_cropped_jeans         260\n",
       "essentials_no_2:_the_jeans         228\n",
       "loose_bootcut_jeans                228\n",
       "regular_crop_jeans                 171\n",
       "relaxed_pull-on_jeans              171\n",
       "relaxed_denim_joggers              169\n",
       "baggy_jeans                        153\n",
       "slim_flared_jeans                  114\n",
       "relaxed_worker_jeans               114\n",
       "2-pack_slim_jeans                  114\n",
       "regular_bootcut_jeans              108\n",
       "loose_pull-on_jeans                  2\n",
       "Name: product_name, dtype: int64"
      ]
     },
     "execution_count": 41,
     "metadata": {},
     "output_type": "execute_result"
    }
   ],
   "source": [
    "df_hm2['product_name'].value_counts()"
   ]
  },
  {
   "attachments": {},
   "cell_type": "markdown",
   "metadata": {},
   "source": [
    "# Macy's"
   ]
  },
  {
   "cell_type": "code",
   "execution_count": 52,
   "metadata": {},
   "outputs": [
    {
     "data": {
      "text/html": [
       "<div>\n",
       "<style scoped>\n",
       "    .dataframe tbody tr th:only-of-type {\n",
       "        vertical-align: middle;\n",
       "    }\n",
       "\n",
       "    .dataframe tbody tr th {\n",
       "        vertical-align: top;\n",
       "    }\n",
       "\n",
       "    .dataframe thead th {\n",
       "        text-align: right;\n",
       "    }\n",
       "</style>\n",
       "<table border=\"1\" class=\"dataframe\">\n",
       "  <thead>\n",
       "    <tr style=\"text-align: right;\">\n",
       "      <th></th>\n",
       "      <th>product_id</th>\n",
       "      <th>style_id</th>\n",
       "      <th>color_id</th>\n",
       "      <th>product_type</th>\n",
       "      <th>product_name</th>\n",
       "      <th>color_name</th>\n",
       "      <th>fit</th>\n",
       "      <th>price</th>\n",
       "      <th>size</th>\n",
       "      <th>composition</th>\n",
       "      <th>material_1</th>\n",
       "      <th>material_2</th>\n",
       "      <th>material_3</th>\n",
       "      <th>material_4</th>\n",
       "      <th>material_5</th>\n",
       "      <th>scrap_datetime</th>\n",
       "    </tr>\n",
       "  </thead>\n",
       "  <tbody>\n",
       "    <tr>\n",
       "      <th>0</th>\n",
       "      <td>2834585</td>\n",
       "      <td>32808</td>\n",
       "      <td>6823802.0</td>\n",
       "      <td>slim</td>\n",
       "      <td>men_512_slim_taper_fit_jeans</td>\n",
       "      <td>charred_marshmallow</td>\n",
       "      <td>taper_fit</td>\n",
       "      <td>79.5</td>\n",
       "      <td>28/30</td>\n",
       "      <td>cotton/elastane</td>\n",
       "      <td>cotton</td>\n",
       "      <td>elastane</td>\n",
       "      <td>None</td>\n",
       "      <td>None</td>\n",
       "      <td>None</td>\n",
       "      <td>2023-01-30 20:32:01</td>\n",
       "    </tr>\n",
       "    <tr>\n",
       "      <th>1</th>\n",
       "      <td>2834585</td>\n",
       "      <td>32808</td>\n",
       "      <td>2383464.0</td>\n",
       "      <td>slim</td>\n",
       "      <td>men_512_slim_taper_fit_jeans</td>\n",
       "      <td>dark_hollow_waterless</td>\n",
       "      <td>taper_fit</td>\n",
       "      <td>79.5</td>\n",
       "      <td>28/30</td>\n",
       "      <td>cotton/elastane</td>\n",
       "      <td>cotton</td>\n",
       "      <td>elastane</td>\n",
       "      <td>None</td>\n",
       "      <td>None</td>\n",
       "      <td>None</td>\n",
       "      <td>2023-01-30 20:32:01</td>\n",
       "    </tr>\n",
       "    <tr>\n",
       "      <th>2</th>\n",
       "      <td>2834585</td>\n",
       "      <td>32808</td>\n",
       "      <td>5365049.0</td>\n",
       "      <td>slim</td>\n",
       "      <td>men_512_slim_taper_fit_jeans</td>\n",
       "      <td>goldenrod</td>\n",
       "      <td>taper_fit</td>\n",
       "      <td>79.5</td>\n",
       "      <td>28/30</td>\n",
       "      <td>cotton/elastane</td>\n",
       "      <td>cotton</td>\n",
       "      <td>elastane</td>\n",
       "      <td>None</td>\n",
       "      <td>None</td>\n",
       "      <td>None</td>\n",
       "      <td>2023-01-30 20:32:01</td>\n",
       "    </tr>\n",
       "    <tr>\n",
       "      <th>3</th>\n",
       "      <td>2834585</td>\n",
       "      <td>32808</td>\n",
       "      <td>5584522.0</td>\n",
       "      <td>slim</td>\n",
       "      <td>men_512_slim_taper_fit_jeans</td>\n",
       "      <td>native_cali</td>\n",
       "      <td>taper_fit</td>\n",
       "      <td>79.5</td>\n",
       "      <td>28/30</td>\n",
       "      <td>cotton/elastane</td>\n",
       "      <td>cotton</td>\n",
       "      <td>elastane</td>\n",
       "      <td>None</td>\n",
       "      <td>None</td>\n",
       "      <td>None</td>\n",
       "      <td>2023-01-30 20:32:01</td>\n",
       "    </tr>\n",
       "    <tr>\n",
       "      <th>4</th>\n",
       "      <td>2834585</td>\n",
       "      <td>32808</td>\n",
       "      <td>2713262.0</td>\n",
       "      <td>slim</td>\n",
       "      <td>men_512_slim_taper_fit_jeans</td>\n",
       "      <td>sin_city_waterless</td>\n",
       "      <td>taper_fit</td>\n",
       "      <td>79.5</td>\n",
       "      <td>28/30</td>\n",
       "      <td>cotton/elastane</td>\n",
       "      <td>cotton</td>\n",
       "      <td>elastane</td>\n",
       "      <td>None</td>\n",
       "      <td>None</td>\n",
       "      <td>None</td>\n",
       "      <td>2023-01-30 20:32:01</td>\n",
       "    </tr>\n",
       "  </tbody>\n",
       "</table>\n",
       "</div>"
      ],
      "text/plain": [
       "   product_id  style_id   color_id product_type                  product_name  \\\n",
       "0     2834585     32808  6823802.0         slim  men_512_slim_taper_fit_jeans   \n",
       "1     2834585     32808  2383464.0         slim  men_512_slim_taper_fit_jeans   \n",
       "2     2834585     32808  5365049.0         slim  men_512_slim_taper_fit_jeans   \n",
       "3     2834585     32808  5584522.0         slim  men_512_slim_taper_fit_jeans   \n",
       "4     2834585     32808  2713262.0         slim  men_512_slim_taper_fit_jeans   \n",
       "\n",
       "              color_name        fit  price   size      composition material_1  \\\n",
       "0    charred_marshmallow  taper_fit   79.5  28/30  cotton/elastane     cotton   \n",
       "1  dark_hollow_waterless  taper_fit   79.5  28/30  cotton/elastane     cotton   \n",
       "2              goldenrod  taper_fit   79.5  28/30  cotton/elastane     cotton   \n",
       "3            native_cali  taper_fit   79.5  28/30  cotton/elastane     cotton   \n",
       "4     sin_city_waterless  taper_fit   79.5  28/30  cotton/elastane     cotton   \n",
       "\n",
       "  material_2 material_3 material_4 material_5       scrap_datetime  \n",
       "0   elastane       None       None       None  2023-01-30 20:32:01  \n",
       "1   elastane       None       None       None  2023-01-30 20:32:01  \n",
       "2   elastane       None       None       None  2023-01-30 20:32:01  \n",
       "3   elastane       None       None       None  2023-01-30 20:32:01  \n",
       "4   elastane       None       None       None  2023-01-30 20:32:01  "
      ]
     },
     "execution_count": 52,
     "metadata": {},
     "output_type": "execute_result"
    }
   ],
   "source": [
    "df_raw_macys.head()"
   ]
  },
  {
   "cell_type": "code",
   "execution_count": 68,
   "metadata": {},
   "outputs": [],
   "source": [
    "df_macys1 = df_raw_macys.copy()"
   ]
  },
  {
   "attachments": {},
   "cell_type": "markdown",
   "metadata": {},
   "source": [
    "### Data Dimension "
   ]
  },
  {
   "cell_type": "code",
   "execution_count": 69,
   "metadata": {},
   "outputs": [
    {
     "name": "stdout",
     "output_type": "stream",
     "text": [
      "Number of rows: 10208\n",
      "Number of columns: 16\n"
     ]
    }
   ],
   "source": [
    "print('Number of rows:', df_macys1.shape[0])\n",
    "print('Number of columns:', df_macys1.shape[1])"
   ]
  },
  {
   "cell_type": "markdown",
   "metadata": {},
   "source": [
    "### Data types\n"
   ]
  },
  {
   "cell_type": "code",
   "execution_count": 70,
   "metadata": {},
   "outputs": [
    {
     "data": {
      "text/plain": [
       "product_id          int64\n",
       "style_id            int64\n",
       "color_id          float64\n",
       "product_type       object\n",
       "product_name       object\n",
       "color_name         object\n",
       "fit                object\n",
       "price             float64\n",
       "size               object\n",
       "composition        object\n",
       "material_1         object\n",
       "material_2         object\n",
       "material_3         object\n",
       "material_4         object\n",
       "material_5         object\n",
       "scrap_datetime     object\n",
       "dtype: object"
      ]
     },
     "execution_count": 70,
     "metadata": {},
     "output_type": "execute_result"
    }
   ],
   "source": [
    "df_macys1.dtypes"
   ]
  },
  {
   "cell_type": "code",
   "execution_count": 71,
   "metadata": {},
   "outputs": [],
   "source": [
    "df_macys1['scrap_datetime'] = pd.to_datetime(df_hm1['scrap_datetime'])"
   ]
  },
  {
   "cell_type": "markdown",
   "metadata": {},
   "source": [
    "### Missing data"
   ]
  },
  {
   "cell_type": "code",
   "execution_count": 72,
   "metadata": {},
   "outputs": [
    {
     "data": {
      "text/plain": [
       "product_id            0\n",
       "style_id              0\n",
       "color_id            285\n",
       "product_type          0\n",
       "product_name          0\n",
       "color_name          285\n",
       "fit                   0\n",
       "price                 0\n",
       "size                310\n",
       "composition           0\n",
       "material_1            0\n",
       "material_2          115\n",
       "material_3         5542\n",
       "material_4         9510\n",
       "material_5        10086\n",
       "scrap_datetime        0\n",
       "dtype: int64"
      ]
     },
     "execution_count": 72,
     "metadata": {},
     "output_type": "execute_result"
    }
   ],
   "source": [
    "df_macys1.isna().sum()"
   ]
  },
  {
   "cell_type": "code",
   "execution_count": 73,
   "metadata": {},
   "outputs": [
    {
     "data": {
      "text/plain": [
       "product_id        0.000000\n",
       "style_id          0.000000\n",
       "color_id          0.023552\n",
       "product_type      0.000000\n",
       "product_name      0.000000\n",
       "color_name        0.023552\n",
       "fit               0.000000\n",
       "price             0.000000\n",
       "size              0.025618\n",
       "composition       0.000000\n",
       "material_1        0.000000\n",
       "material_2        0.009503\n",
       "material_3        0.457979\n",
       "material_4        0.785885\n",
       "material_5        0.833485\n",
       "scrap_datetime    0.000000\n",
       "dtype: float64"
      ]
     },
     "execution_count": 73,
     "metadata": {},
     "output_type": "execute_result"
    }
   ],
   "source": [
    "df_macys1.isna().sum()/df_hm1.shape[0]"
   ]
  },
  {
   "cell_type": "markdown",
   "metadata": {},
   "source": [
    "### Handling missing data"
   ]
  },
  {
   "cell_type": "code",
   "execution_count": 74,
   "metadata": {},
   "outputs": [],
   "source": [
    "df_macys2 = df_macys1.drop(columns=['size'])"
   ]
  },
  {
   "cell_type": "markdown",
   "metadata": {},
   "source": [
    "### 1.5 Data Description\n"
   ]
  },
  {
   "cell_type": "code",
   "execution_count": 75,
   "metadata": {},
   "outputs": [],
   "source": [
    "df_num = df_macys2.select_dtypes(include=['float64', 'int64']).drop(['product_id', 'style_id', 'color_id'], axis=1)\n",
    "cat_attributes = df_hm2.select_dtypes(exclude=['float64', 'int64','datetime64[ns]'])"
   ]
  },
  {
   "cell_type": "markdown",
   "metadata": {},
   "source": [
    "##### 1.5.1 Numeric"
   ]
  },
  {
   "cell_type": "code",
   "execution_count": 76,
   "metadata": {},
   "outputs": [
    {
     "data": {
      "text/html": [
       "<div>\n",
       "<style scoped>\n",
       "    .dataframe tbody tr th:only-of-type {\n",
       "        vertical-align: middle;\n",
       "    }\n",
       "\n",
       "    .dataframe tbody tr th {\n",
       "        vertical-align: top;\n",
       "    }\n",
       "\n",
       "    .dataframe thead th {\n",
       "        text-align: right;\n",
       "    }\n",
       "</style>\n",
       "<table border=\"1\" class=\"dataframe\">\n",
       "  <thead>\n",
       "    <tr style=\"text-align: right;\">\n",
       "      <th></th>\n",
       "      <th>count</th>\n",
       "      <th>mean</th>\n",
       "      <th>std</th>\n",
       "      <th>min</th>\n",
       "      <th>1%</th>\n",
       "      <th>25%</th>\n",
       "      <th>50%</th>\n",
       "      <th>75%</th>\n",
       "      <th>99%</th>\n",
       "      <th>max</th>\n",
       "      <th>skew</th>\n",
       "      <th>kurtosis</th>\n",
       "    </tr>\n",
       "  </thead>\n",
       "  <tbody>\n",
       "    <tr>\n",
       "      <th>price</th>\n",
       "      <td>10208.0</td>\n",
       "      <td>77.638383</td>\n",
       "      <td>36.563572</td>\n",
       "      <td>15.86</td>\n",
       "      <td>29.7</td>\n",
       "      <td>49.5</td>\n",
       "      <td>69.5</td>\n",
       "      <td>96.0</td>\n",
       "      <td>225.0</td>\n",
       "      <td>240.0</td>\n",
       "      <td>1.788443</td>\n",
       "      <td>4.39571</td>\n",
       "    </tr>\n",
       "  </tbody>\n",
       "</table>\n",
       "</div>"
      ],
      "text/plain": [
       "         count       mean        std    min    1%   25%   50%   75%    99%  \\\n",
       "price  10208.0  77.638383  36.563572  15.86  29.7  49.5  69.5  96.0  225.0   \n",
       "\n",
       "         max      skew  kurtosis  \n",
       "price  240.0  1.788443   4.39571  "
      ]
     },
     "execution_count": 76,
     "metadata": {},
     "output_type": "execute_result"
    }
   ],
   "source": [
    "# Central tendency and Dispersion\n",
    "summary  = df_num.describe(percentiles=[0.01,0.25,0.5,0.75,0.99]).T\n",
    "summary['skew'] = df_num.skew()\n",
    "summary['kurtosis'] = df_num.kurtosis()\n",
    "summary\n"
   ]
  },
  {
   "cell_type": "code",
   "execution_count": 77,
   "metadata": {},
   "outputs": [],
   "source": [
    "df_macys2['year'] = df_macys2['scrap_datetime'].dt.year\n",
    "df_macys2['month'] = df_macys2['scrap_datetime'].dt.month\n",
    "df_macys2['day'] = df_macys2['scrap_datetime'].dt.day\n",
    "df_macys2['week'] = df_macys2['scrap_datetime'].dt.isocalendar().week\n",
    "df_macys2['week_day'] = df_macys2['scrap_datetime'].dt.weekday\n",
    "df_macys2['hour'] = df_macys2['scrap_datetime'].dt.hour\n",
    "df_macys2['minute'] = df_macys2['scrap_datetime'].dt.minute\n",
    "df_macys2['month_day'] = df_macys2['scrap_datetime'].dt.strftime('%m-%d')"
   ]
  },
  {
   "cell_type": "code",
   "execution_count": 78,
   "metadata": {},
   "outputs": [
    {
     "data": {
      "text/html": [
       "<div>\n",
       "<style scoped>\n",
       "    .dataframe tbody tr th:only-of-type {\n",
       "        vertical-align: middle;\n",
       "    }\n",
       "\n",
       "    .dataframe tbody tr th {\n",
       "        vertical-align: top;\n",
       "    }\n",
       "\n",
       "    .dataframe thead th {\n",
       "        text-align: right;\n",
       "    }\n",
       "</style>\n",
       "<table border=\"1\" class=\"dataframe\">\n",
       "  <thead>\n",
       "    <tr style=\"text-align: right;\">\n",
       "      <th></th>\n",
       "      <th>product_id</th>\n",
       "      <th>style_id</th>\n",
       "      <th>color_id</th>\n",
       "      <th>product_type</th>\n",
       "      <th>product_name</th>\n",
       "      <th>color_name</th>\n",
       "      <th>fit</th>\n",
       "      <th>price</th>\n",
       "      <th>composition</th>\n",
       "      <th>material_1</th>\n",
       "      <th>...</th>\n",
       "      <th>material_5</th>\n",
       "      <th>scrap_datetime</th>\n",
       "      <th>year</th>\n",
       "      <th>month</th>\n",
       "      <th>day</th>\n",
       "      <th>week</th>\n",
       "      <th>week_day</th>\n",
       "      <th>hour</th>\n",
       "      <th>minute</th>\n",
       "      <th>month_day</th>\n",
       "    </tr>\n",
       "  </thead>\n",
       "  <tbody>\n",
       "    <tr>\n",
       "      <th>0</th>\n",
       "      <td>2834585</td>\n",
       "      <td>32808</td>\n",
       "      <td>6823802.0</td>\n",
       "      <td>slim</td>\n",
       "      <td>men_512_slim_taper_fit_jeans</td>\n",
       "      <td>charred_marshmallow</td>\n",
       "      <td>taper_fit</td>\n",
       "      <td>79.5</td>\n",
       "      <td>cotton/elastane</td>\n",
       "      <td>cotton</td>\n",
       "      <td>...</td>\n",
       "      <td>None</td>\n",
       "      <td>2023-01-30 21:06:18</td>\n",
       "      <td>2023</td>\n",
       "      <td>1</td>\n",
       "      <td>30</td>\n",
       "      <td>5</td>\n",
       "      <td>0</td>\n",
       "      <td>21</td>\n",
       "      <td>6</td>\n",
       "      <td>01-30</td>\n",
       "    </tr>\n",
       "    <tr>\n",
       "      <th>1</th>\n",
       "      <td>2834585</td>\n",
       "      <td>32808</td>\n",
       "      <td>2383464.0</td>\n",
       "      <td>slim</td>\n",
       "      <td>men_512_slim_taper_fit_jeans</td>\n",
       "      <td>dark_hollow_waterless</td>\n",
       "      <td>taper_fit</td>\n",
       "      <td>79.5</td>\n",
       "      <td>cotton/elastane</td>\n",
       "      <td>cotton</td>\n",
       "      <td>...</td>\n",
       "      <td>None</td>\n",
       "      <td>2023-01-30 21:06:18</td>\n",
       "      <td>2023</td>\n",
       "      <td>1</td>\n",
       "      <td>30</td>\n",
       "      <td>5</td>\n",
       "      <td>0</td>\n",
       "      <td>21</td>\n",
       "      <td>6</td>\n",
       "      <td>01-30</td>\n",
       "    </tr>\n",
       "    <tr>\n",
       "      <th>2</th>\n",
       "      <td>2834585</td>\n",
       "      <td>32808</td>\n",
       "      <td>5365049.0</td>\n",
       "      <td>slim</td>\n",
       "      <td>men_512_slim_taper_fit_jeans</td>\n",
       "      <td>goldenrod</td>\n",
       "      <td>taper_fit</td>\n",
       "      <td>79.5</td>\n",
       "      <td>cotton/elastane</td>\n",
       "      <td>cotton</td>\n",
       "      <td>...</td>\n",
       "      <td>None</td>\n",
       "      <td>2023-01-30 21:06:18</td>\n",
       "      <td>2023</td>\n",
       "      <td>1</td>\n",
       "      <td>30</td>\n",
       "      <td>5</td>\n",
       "      <td>0</td>\n",
       "      <td>21</td>\n",
       "      <td>6</td>\n",
       "      <td>01-30</td>\n",
       "    </tr>\n",
       "    <tr>\n",
       "      <th>3</th>\n",
       "      <td>2834585</td>\n",
       "      <td>32808</td>\n",
       "      <td>5584522.0</td>\n",
       "      <td>slim</td>\n",
       "      <td>men_512_slim_taper_fit_jeans</td>\n",
       "      <td>native_cali</td>\n",
       "      <td>taper_fit</td>\n",
       "      <td>79.5</td>\n",
       "      <td>cotton/elastane</td>\n",
       "      <td>cotton</td>\n",
       "      <td>...</td>\n",
       "      <td>None</td>\n",
       "      <td>2023-01-30 21:06:18</td>\n",
       "      <td>2023</td>\n",
       "      <td>1</td>\n",
       "      <td>30</td>\n",
       "      <td>5</td>\n",
       "      <td>0</td>\n",
       "      <td>21</td>\n",
       "      <td>6</td>\n",
       "      <td>01-30</td>\n",
       "    </tr>\n",
       "    <tr>\n",
       "      <th>4</th>\n",
       "      <td>2834585</td>\n",
       "      <td>32808</td>\n",
       "      <td>2713262.0</td>\n",
       "      <td>slim</td>\n",
       "      <td>men_512_slim_taper_fit_jeans</td>\n",
       "      <td>sin_city_waterless</td>\n",
       "      <td>taper_fit</td>\n",
       "      <td>79.5</td>\n",
       "      <td>cotton/elastane</td>\n",
       "      <td>cotton</td>\n",
       "      <td>...</td>\n",
       "      <td>None</td>\n",
       "      <td>2023-01-30 21:06:18</td>\n",
       "      <td>2023</td>\n",
       "      <td>1</td>\n",
       "      <td>30</td>\n",
       "      <td>5</td>\n",
       "      <td>0</td>\n",
       "      <td>21</td>\n",
       "      <td>6</td>\n",
       "      <td>01-30</td>\n",
       "    </tr>\n",
       "  </tbody>\n",
       "</table>\n",
       "<p>5 rows × 23 columns</p>\n",
       "</div>"
      ],
      "text/plain": [
       "   product_id  style_id   color_id product_type                  product_name  \\\n",
       "0     2834585     32808  6823802.0         slim  men_512_slim_taper_fit_jeans   \n",
       "1     2834585     32808  2383464.0         slim  men_512_slim_taper_fit_jeans   \n",
       "2     2834585     32808  5365049.0         slim  men_512_slim_taper_fit_jeans   \n",
       "3     2834585     32808  5584522.0         slim  men_512_slim_taper_fit_jeans   \n",
       "4     2834585     32808  2713262.0         slim  men_512_slim_taper_fit_jeans   \n",
       "\n",
       "              color_name        fit  price      composition material_1  ...  \\\n",
       "0    charred_marshmallow  taper_fit   79.5  cotton/elastane     cotton  ...   \n",
       "1  dark_hollow_waterless  taper_fit   79.5  cotton/elastane     cotton  ...   \n",
       "2              goldenrod  taper_fit   79.5  cotton/elastane     cotton  ...   \n",
       "3            native_cali  taper_fit   79.5  cotton/elastane     cotton  ...   \n",
       "4     sin_city_waterless  taper_fit   79.5  cotton/elastane     cotton  ...   \n",
       "\n",
       "  material_5      scrap_datetime  year month day  week  week_day  hour  \\\n",
       "0       None 2023-01-30 21:06:18  2023     1  30     5         0    21   \n",
       "1       None 2023-01-30 21:06:18  2023     1  30     5         0    21   \n",
       "2       None 2023-01-30 21:06:18  2023     1  30     5         0    21   \n",
       "3       None 2023-01-30 21:06:18  2023     1  30     5         0    21   \n",
       "4       None 2023-01-30 21:06:18  2023     1  30     5         0    21   \n",
       "\n",
       "   minute  month_day  \n",
       "0       6      01-30  \n",
       "1       6      01-30  \n",
       "2       6      01-30  \n",
       "3       6      01-30  \n",
       "4       6      01-30  \n",
       "\n",
       "[5 rows x 23 columns]"
      ]
     },
     "execution_count": 78,
     "metadata": {},
     "output_type": "execute_result"
    }
   ],
   "source": [
    "df_macys2.head()"
   ]
  },
  {
   "cell_type": "code",
   "execution_count": 79,
   "metadata": {},
   "outputs": [],
   "source": [
    "df_aux_mean = df_macys2[['product_type', 'price']].groupby('product_type').mean().reset_index()\n",
    "df_aux_min = df_macys2[['product_type', 'price']].groupby('product_type').min().reset_index()\n",
    "df_aux_max = df_macys2[['product_type', 'price']].groupby('product_type').max().reset_index()"
   ]
  },
  {
   "cell_type": "code",
   "execution_count": 80,
   "metadata": {},
   "outputs": [
    {
     "data": {
      "text/plain": [
       "<AxesSubplot: xlabel='product_type', ylabel='price'>"
      ]
     },
     "execution_count": 80,
     "metadata": {},
     "output_type": "execute_result"
    },
    {
     "data": {
      "image/png": "[encoded data removed]",
      "text/plain": [
       "<Figure size 2500x800 with 1 Axes>"
      ]
     },
     "metadata": {},
     "output_type": "display_data"
    }
   ],
   "source": [
    "plt.figure(figsize=(25, 8))\n",
    "sns.barplot(data=df_aux_mean, x='product_type', y='price')"
   ]
  },
  {
   "cell_type": "code",
   "execution_count": 83,
   "metadata": {},
   "outputs": [
    {
     "data": {
      "text/plain": [
       "<AxesSubplot: xlabel='product_type', ylabel='price'>"
      ]
     },
     "execution_count": 83,
     "metadata": {},
     "output_type": "execute_result"
    },
    {
     "data": {
      "image/png": "[encoded data removed]",
      "text/plain": [
       "<Figure size 2500x800 with 1 Axes>"
      ]
     },
     "metadata": {},
     "output_type": "display_data"
    }
   ],
   "source": [
    "plt.figure(figsize=(25, 8))\n",
    "sns.barplot(data=df_aux_min, x='product_type', y='price')"
   ]
  },
  {
   "cell_type": "code",
   "execution_count": 82,
   "metadata": {},
   "outputs": [
    {
     "data": {
      "text/plain": [
       "<AxesSubplot: xlabel='product_type', ylabel='price'>"
      ]
     },
     "execution_count": 82,
     "metadata": {},
     "output_type": "execute_result"
    },
    {
     "data": {
      "image/png": "[encoded data removed]",
      "text/plain": [
       "<Figure size 2500x800 with 1 Axes>"
      ]
     },
     "metadata": {},
     "output_type": "display_data"
    }
   ],
   "source": [
    "plt.figure(figsize=(25, 8))\n",
    "sns.barplot(data=df_aux_max, x='product_type', y='price')"
   ]
  },
  {
   "cell_type": "code",
   "execution_count": null,
   "metadata": {},
   "outputs": [
    {
     "data": {
      "text/plain": [
       "regular_jeans                     1807\n",
       "skinny_jeans                      1764\n",
       "relaxed_jeans                     1483\n",
       "slim_jeans                        1368\n",
       "loose_jeans                       1318\n",
       "hybrid_regular_tapered_joggers     597\n",
       "slim_tapered_jeans                 513\n",
       "freefit®_slim_jeans                456\n",
       "skinny_crop_jeans                  342\n",
       "regular_tapered_crop_jeans         336\n",
       "hybrid_regular_jeans               285\n",
       "slim_tapered_cropped_jeans         260\n",
       "essentials_no_2:_the_jeans         228\n",
       "loose_bootcut_jeans                228\n",
       "regular_crop_jeans                 171\n",
       "relaxed_pull-on_jeans              171\n",
       "relaxed_denim_joggers              169\n",
       "baggy_jeans                        153\n",
       "slim_flared_jeans                  114\n",
       "relaxed_worker_jeans               114\n",
       "2-pack_slim_jeans                  114\n",
       "regular_bootcut_jeans              108\n",
       "loose_pull-on_jeans                  2\n",
       "Name: product_name, dtype: int64"
      ]
     },
     "metadata": {},
     "output_type": "display_data"
    }
   ],
   "source": [
    "df_hm2['product_name'].value_counts()"
   ]
  }
 ],
 "metadata": {
  "kernelspec": {
   "display_name": "Python 3.9.12 ('scrappenv')",
   "language": "python",
   "name": "python3"
  },
  "language_info": {
   "codemirror_mode": {
    "name": "ipython",
    "version": 3
   },
   "file_extension": ".py",
   "mimetype": "text/x-python",
   "name": "python",
   "nbconvert_exporter": "python",
   "pygments_lexer": "ipython3",
   "version": "3.9.12"
  },
  "orig_nbformat": 4,
  "vscode": {
   "interpreter": {
    "hash": "8f1f5c24d7514b3cb7ea3e0e3d3ecf8f306eac1049c5371266b2062e1dc43a41"
   }
  }
 },
 "nbformat": 4,
 "nbformat_minor": 2
}
